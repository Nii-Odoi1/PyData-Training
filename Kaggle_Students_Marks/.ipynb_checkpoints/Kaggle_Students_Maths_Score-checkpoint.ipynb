{
 "cells": [
  {
   "cell_type": "code",
   "execution_count": 2,
   "id": "6b772ee2",
   "metadata": {},
   "outputs": [],
   "source": [
    "import numpy as np \n",
    "import pandas as pd \n",
    "import matplotlib.pyplot as plt"
   ]
  },
  {
   "cell_type": "code",
   "execution_count": 3,
   "id": "7ad1f811",
   "metadata": {
    "collapsed": true
   },
   "outputs": [
    {
     "name": "stdout",
     "output_type": "stream",
     "text": [
      "Requirement already satisfied: pyreadstat in /Users/niitettehodoi/opt/anaconda3/lib/python3.8/site-packages (1.1.4)\n",
      "Requirement already satisfied: pandas>=1.2.0 in /Users/niitettehodoi/opt/anaconda3/lib/python3.8/site-packages (from pyreadstat) (1.2.4)\n",
      "Requirement already satisfied: python-dateutil>=2.7.3 in /Users/niitettehodoi/opt/anaconda3/lib/python3.8/site-packages (from pandas>=1.2.0->pyreadstat) (2.8.1)\n",
      "Requirement already satisfied: pytz>=2017.3 in /Users/niitettehodoi/opt/anaconda3/lib/python3.8/site-packages (from pandas>=1.2.0->pyreadstat) (2021.1)\n",
      "Requirement already satisfied: numpy>=1.16.5 in /Users/niitettehodoi/opt/anaconda3/lib/python3.8/site-packages (from pandas>=1.2.0->pyreadstat) (1.20.1)\n",
      "Requirement already satisfied: six>=1.5 in /Users/niitettehodoi/opt/anaconda3/lib/python3.8/site-packages (from python-dateutil>=2.7.3->pandas>=1.2.0->pyreadstat) (1.15.0)\n"
     ]
    }
   ],
   "source": [
    "#install pyreadstat to be able to read '.sav' extension\n",
    "!pip install pyreadstat"
   ]
  },
  {
   "cell_type": "code",
   "execution_count": 6,
   "id": "feb84a16",
   "metadata": {},
   "outputs": [],
   "source": [
    "df = pd.read_spss('./1ResearchProjectData.sav')"
   ]
  },
  {
   "cell_type": "code",
   "execution_count": 7,
   "id": "e452dd34",
   "metadata": {},
   "outputs": [
    {
     "data": {
      "text/html": [
       "<div>\n",
       "<style scoped>\n",
       "    .dataframe tbody tr th:only-of-type {\n",
       "        vertical-align: middle;\n",
       "    }\n",
       "\n",
       "    .dataframe tbody tr th {\n",
       "        vertical-align: top;\n",
       "    }\n",
       "\n",
       "    .dataframe thead th {\n",
       "        text-align: right;\n",
       "    }\n",
       "</style>\n",
       "<table border=\"1\" class=\"dataframe\">\n",
       "  <thead>\n",
       "    <tr style=\"text-align: right;\">\n",
       "      <th></th>\n",
       "      <th>Student</th>\n",
       "      <th>Teacher</th>\n",
       "      <th>Gender</th>\n",
       "      <th>Ethnic</th>\n",
       "      <th>Freeredu</th>\n",
       "      <th>Score</th>\n",
       "      <th>wesson</th>\n",
       "    </tr>\n",
       "  </thead>\n",
       "  <tbody>\n",
       "    <tr>\n",
       "      <th>0</th>\n",
       "      <td>1.0</td>\n",
       "      <td>Ruger</td>\n",
       "      <td>Female</td>\n",
       "      <td>Asian</td>\n",
       "      <td>Free lunch</td>\n",
       "      <td>76.0</td>\n",
       "      <td>Ruger_Smith</td>\n",
       "    </tr>\n",
       "    <tr>\n",
       "      <th>1</th>\n",
       "      <td>2.0</td>\n",
       "      <td>Ruger</td>\n",
       "      <td>Female</td>\n",
       "      <td>Hispanic</td>\n",
       "      <td>Paid lunch</td>\n",
       "      <td>56.0</td>\n",
       "      <td>Ruger_Smith</td>\n",
       "    </tr>\n",
       "    <tr>\n",
       "      <th>2</th>\n",
       "      <td>3.0</td>\n",
       "      <td>Ruger</td>\n",
       "      <td>Female</td>\n",
       "      <td>African-American</td>\n",
       "      <td>Free lunch</td>\n",
       "      <td>34.0</td>\n",
       "      <td>Ruger_Smith</td>\n",
       "    </tr>\n",
       "    <tr>\n",
       "      <th>3</th>\n",
       "      <td>4.0</td>\n",
       "      <td>Ruger</td>\n",
       "      <td>Female</td>\n",
       "      <td>Asian</td>\n",
       "      <td>Paid lunch</td>\n",
       "      <td>59.0</td>\n",
       "      <td>Ruger_Smith</td>\n",
       "    </tr>\n",
       "    <tr>\n",
       "      <th>4</th>\n",
       "      <td>5.0</td>\n",
       "      <td>Ruger</td>\n",
       "      <td>Male</td>\n",
       "      <td>Hispanic</td>\n",
       "      <td>Free lunch</td>\n",
       "      <td>73.0</td>\n",
       "      <td>Ruger_Smith</td>\n",
       "    </tr>\n",
       "  </tbody>\n",
       "</table>\n",
       "</div>"
      ],
      "text/plain": [
       "   Student Teacher  Gender            Ethnic    Freeredu  Score       wesson\n",
       "0      1.0   Ruger  Female             Asian  Free lunch   76.0  Ruger_Smith\n",
       "1      2.0   Ruger  Female          Hispanic  Paid lunch   56.0  Ruger_Smith\n",
       "2      3.0   Ruger  Female  African-American  Free lunch   34.0  Ruger_Smith\n",
       "3      4.0   Ruger  Female             Asian  Paid lunch   59.0  Ruger_Smith\n",
       "4      5.0   Ruger    Male          Hispanic  Free lunch   73.0  Ruger_Smith"
      ]
     },
     "execution_count": 7,
     "metadata": {},
     "output_type": "execute_result"
    }
   ],
   "source": [
    "df.head()"
   ]
  },
  {
   "cell_type": "code",
   "execution_count": 8,
   "id": "8d0e0a77",
   "metadata": {},
   "outputs": [
    {
     "data": {
      "text/plain": [
       "RangeIndex(start=0, stop=217, step=1)"
      ]
     },
     "execution_count": 8,
     "metadata": {},
     "output_type": "execute_result"
    }
   ],
   "source": [
    "df.index"
   ]
  },
  {
   "cell_type": "code",
   "execution_count": 9,
   "id": "73c6f928",
   "metadata": {},
   "outputs": [
    {
     "data": {
      "text/html": [
       "<div>\n",
       "<style scoped>\n",
       "    .dataframe tbody tr th:only-of-type {\n",
       "        vertical-align: middle;\n",
       "    }\n",
       "\n",
       "    .dataframe tbody tr th {\n",
       "        vertical-align: top;\n",
       "    }\n",
       "\n",
       "    .dataframe thead th {\n",
       "        text-align: right;\n",
       "    }\n",
       "</style>\n",
       "<table border=\"1\" class=\"dataframe\">\n",
       "  <thead>\n",
       "    <tr style=\"text-align: right;\">\n",
       "      <th></th>\n",
       "      <th>Student</th>\n",
       "      <th>Teacher</th>\n",
       "      <th>Gender</th>\n",
       "      <th>Ethnic</th>\n",
       "      <th>Freeredu</th>\n",
       "      <th>Score</th>\n",
       "      <th>wesson</th>\n",
       "    </tr>\n",
       "  </thead>\n",
       "  <tbody>\n",
       "    <tr>\n",
       "      <th>212</th>\n",
       "      <td>213.0</td>\n",
       "      <td>Wesson</td>\n",
       "      <td>Male</td>\n",
       "      <td>Hispanic</td>\n",
       "      <td>Free lunch</td>\n",
       "      <td>94.0</td>\n",
       "      <td>Wesson</td>\n",
       "    </tr>\n",
       "    <tr>\n",
       "      <th>213</th>\n",
       "      <td>214.0</td>\n",
       "      <td>Wesson</td>\n",
       "      <td>Male</td>\n",
       "      <td>Hispanic</td>\n",
       "      <td>Paid lunch</td>\n",
       "      <td>91.0</td>\n",
       "      <td>Wesson</td>\n",
       "    </tr>\n",
       "    <tr>\n",
       "      <th>214</th>\n",
       "      <td>215.0</td>\n",
       "      <td>Wesson</td>\n",
       "      <td>Female</td>\n",
       "      <td>African-American</td>\n",
       "      <td>Paid lunch</td>\n",
       "      <td>53.0</td>\n",
       "      <td>Wesson</td>\n",
       "    </tr>\n",
       "    <tr>\n",
       "      <th>215</th>\n",
       "      <td>216.0</td>\n",
       "      <td>Wesson</td>\n",
       "      <td>Male</td>\n",
       "      <td>Hispanic</td>\n",
       "      <td>Paid lunch</td>\n",
       "      <td>57.0</td>\n",
       "      <td>Wesson</td>\n",
       "    </tr>\n",
       "    <tr>\n",
       "      <th>216</th>\n",
       "      <td>NaN</td>\n",
       "      <td>NaN</td>\n",
       "      <td>NaN</td>\n",
       "      <td>NaN</td>\n",
       "      <td>NaN</td>\n",
       "      <td>NaN</td>\n",
       "      <td>Ruger_Smith</td>\n",
       "    </tr>\n",
       "  </tbody>\n",
       "</table>\n",
       "</div>"
      ],
      "text/plain": [
       "     Student Teacher  Gender            Ethnic    Freeredu  Score       wesson\n",
       "212    213.0  Wesson    Male          Hispanic  Free lunch   94.0       Wesson\n",
       "213    214.0  Wesson    Male          Hispanic  Paid lunch   91.0       Wesson\n",
       "214    215.0  Wesson  Female  African-American  Paid lunch   53.0       Wesson\n",
       "215    216.0  Wesson    Male          Hispanic  Paid lunch   57.0       Wesson\n",
       "216      NaN     NaN     NaN               NaN         NaN    NaN  Ruger_Smith"
      ]
     },
     "execution_count": 9,
     "metadata": {},
     "output_type": "execute_result"
    }
   ],
   "source": [
    "df.tail()"
   ]
  },
  {
   "cell_type": "code",
   "execution_count": 10,
   "id": "cacbda4d",
   "metadata": {},
   "outputs": [
    {
     "data": {
      "text/html": [
       "<div>\n",
       "<style scoped>\n",
       "    .dataframe tbody tr th:only-of-type {\n",
       "        vertical-align: middle;\n",
       "    }\n",
       "\n",
       "    .dataframe tbody tr th {\n",
       "        vertical-align: top;\n",
       "    }\n",
       "\n",
       "    .dataframe thead th {\n",
       "        text-align: right;\n",
       "    }\n",
       "</style>\n",
       "<table border=\"1\" class=\"dataframe\">\n",
       "  <thead>\n",
       "    <tr style=\"text-align: right;\">\n",
       "      <th></th>\n",
       "      <th>Student</th>\n",
       "      <th>Score</th>\n",
       "    </tr>\n",
       "  </thead>\n",
       "  <tbody>\n",
       "    <tr>\n",
       "      <th>count</th>\n",
       "      <td>216.000</td>\n",
       "      <td>216.000000</td>\n",
       "    </tr>\n",
       "    <tr>\n",
       "      <th>mean</th>\n",
       "      <td>108.500</td>\n",
       "      <td>65.273148</td>\n",
       "    </tr>\n",
       "    <tr>\n",
       "      <th>std</th>\n",
       "      <td>62.498</td>\n",
       "      <td>16.361453</td>\n",
       "    </tr>\n",
       "    <tr>\n",
       "      <th>min</th>\n",
       "      <td>1.000</td>\n",
       "      <td>30.000000</td>\n",
       "    </tr>\n",
       "    <tr>\n",
       "      <th>25%</th>\n",
       "      <td>54.750</td>\n",
       "      <td>53.000000</td>\n",
       "    </tr>\n",
       "    <tr>\n",
       "      <th>50%</th>\n",
       "      <td>108.500</td>\n",
       "      <td>65.000000</td>\n",
       "    </tr>\n",
       "    <tr>\n",
       "      <th>75%</th>\n",
       "      <td>162.250</td>\n",
       "      <td>79.000000</td>\n",
       "    </tr>\n",
       "    <tr>\n",
       "      <th>max</th>\n",
       "      <td>216.000</td>\n",
       "      <td>95.000000</td>\n",
       "    </tr>\n",
       "  </tbody>\n",
       "</table>\n",
       "</div>"
      ],
      "text/plain": [
       "       Student       Score\n",
       "count  216.000  216.000000\n",
       "mean   108.500   65.273148\n",
       "std     62.498   16.361453\n",
       "min      1.000   30.000000\n",
       "25%     54.750   53.000000\n",
       "50%    108.500   65.000000\n",
       "75%    162.250   79.000000\n",
       "max    216.000   95.000000"
      ]
     },
     "execution_count": 10,
     "metadata": {},
     "output_type": "execute_result"
    }
   ],
   "source": [
    "df.describe()"
   ]
  },
  {
   "cell_type": "code",
   "execution_count": 11,
   "id": "1ad496b6",
   "metadata": {},
   "outputs": [],
   "source": [
    "#to remove the last row that is empty\n",
    "df = df.loc[:215,:]"
   ]
  },
  {
   "cell_type": "code",
   "execution_count": 12,
   "id": "7f42e083",
   "metadata": {},
   "outputs": [
    {
     "data": {
      "text/html": [
       "<div>\n",
       "<style scoped>\n",
       "    .dataframe tbody tr th:only-of-type {\n",
       "        vertical-align: middle;\n",
       "    }\n",
       "\n",
       "    .dataframe tbody tr th {\n",
       "        vertical-align: top;\n",
       "    }\n",
       "\n",
       "    .dataframe thead th {\n",
       "        text-align: right;\n",
       "    }\n",
       "</style>\n",
       "<table border=\"1\" class=\"dataframe\">\n",
       "  <thead>\n",
       "    <tr style=\"text-align: right;\">\n",
       "      <th></th>\n",
       "      <th>Student</th>\n",
       "      <th>Teacher</th>\n",
       "      <th>Gender</th>\n",
       "      <th>Ethnic</th>\n",
       "      <th>Freeredu</th>\n",
       "      <th>Score</th>\n",
       "      <th>wesson</th>\n",
       "    </tr>\n",
       "  </thead>\n",
       "  <tbody>\n",
       "    <tr>\n",
       "      <th>211</th>\n",
       "      <td>212.0</td>\n",
       "      <td>Wesson</td>\n",
       "      <td>Male</td>\n",
       "      <td>African-American</td>\n",
       "      <td>Paid lunch</td>\n",
       "      <td>56.0</td>\n",
       "      <td>Wesson</td>\n",
       "    </tr>\n",
       "    <tr>\n",
       "      <th>212</th>\n",
       "      <td>213.0</td>\n",
       "      <td>Wesson</td>\n",
       "      <td>Male</td>\n",
       "      <td>Hispanic</td>\n",
       "      <td>Free lunch</td>\n",
       "      <td>94.0</td>\n",
       "      <td>Wesson</td>\n",
       "    </tr>\n",
       "    <tr>\n",
       "      <th>213</th>\n",
       "      <td>214.0</td>\n",
       "      <td>Wesson</td>\n",
       "      <td>Male</td>\n",
       "      <td>Hispanic</td>\n",
       "      <td>Paid lunch</td>\n",
       "      <td>91.0</td>\n",
       "      <td>Wesson</td>\n",
       "    </tr>\n",
       "    <tr>\n",
       "      <th>214</th>\n",
       "      <td>215.0</td>\n",
       "      <td>Wesson</td>\n",
       "      <td>Female</td>\n",
       "      <td>African-American</td>\n",
       "      <td>Paid lunch</td>\n",
       "      <td>53.0</td>\n",
       "      <td>Wesson</td>\n",
       "    </tr>\n",
       "    <tr>\n",
       "      <th>215</th>\n",
       "      <td>216.0</td>\n",
       "      <td>Wesson</td>\n",
       "      <td>Male</td>\n",
       "      <td>Hispanic</td>\n",
       "      <td>Paid lunch</td>\n",
       "      <td>57.0</td>\n",
       "      <td>Wesson</td>\n",
       "    </tr>\n",
       "  </tbody>\n",
       "</table>\n",
       "</div>"
      ],
      "text/plain": [
       "     Student Teacher  Gender            Ethnic    Freeredu  Score  wesson\n",
       "211    212.0  Wesson    Male  African-American  Paid lunch   56.0  Wesson\n",
       "212    213.0  Wesson    Male          Hispanic  Free lunch   94.0  Wesson\n",
       "213    214.0  Wesson    Male          Hispanic  Paid lunch   91.0  Wesson\n",
       "214    215.0  Wesson  Female  African-American  Paid lunch   53.0  Wesson\n",
       "215    216.0  Wesson    Male          Hispanic  Paid lunch   57.0  Wesson"
      ]
     },
     "execution_count": 12,
     "metadata": {},
     "output_type": "execute_result"
    }
   ],
   "source": [
    "df.tail()"
   ]
  },
  {
   "cell_type": "code",
   "execution_count": 13,
   "id": "db263d19",
   "metadata": {},
   "outputs": [
    {
     "data": {
      "text/plain": [
       "Student     0\n",
       "Teacher     0\n",
       "Gender      0\n",
       "Ethnic      0\n",
       "Freeredu    0\n",
       "Score       0\n",
       "wesson      0\n",
       "dtype: int64"
      ]
     },
     "execution_count": 13,
     "metadata": {},
     "output_type": "execute_result"
    }
   ],
   "source": [
    "#returns the number of missing values in each column\n",
    "df.isna().sum()"
   ]
  },
  {
   "cell_type": "code",
   "execution_count": 14,
   "id": "bb14d83e",
   "metadata": {},
   "outputs": [
    {
     "data": {
      "text/plain": [
       "['Ruger', 'Smith', 'Wesson']\n",
       "Categories (3, object): ['Ruger', 'Smith', 'Wesson']"
      ]
     },
     "execution_count": 14,
     "metadata": {},
     "output_type": "execute_result"
    }
   ],
   "source": [
    "teachers = df.Teacher.unique()\n",
    "teachers"
   ]
  },
  {
   "cell_type": "code",
   "execution_count": 15,
   "id": "13287380",
   "metadata": {},
   "outputs": [
    {
     "data": {
      "text/plain": [
       "['Asian', 'Hispanic', 'African-American', 'Caucasian']\n",
       "Categories (4, object): ['Asian', 'Hispanic', 'African-American', 'Caucasian']"
      ]
     },
     "execution_count": 15,
     "metadata": {},
     "output_type": "execute_result"
    }
   ],
   "source": [
    "race = df.Ethnic.unique()\n",
    "race"
   ]
  },
  {
   "cell_type": "code",
   "execution_count": 16,
   "id": "99cde957",
   "metadata": {},
   "outputs": [
    {
     "data": {
      "text/plain": [
       "['Free lunch', 'Paid lunch']\n",
       "Categories (2, object): ['Free lunch', 'Paid lunch']"
      ]
     },
     "execution_count": 16,
     "metadata": {},
     "output_type": "execute_result"
    }
   ],
   "source": [
    "lunch_type = df.Freeredu.unique()\n",
    "lunch_type"
   ]
  },
  {
   "cell_type": "code",
   "execution_count": 17,
   "id": "359158b9",
   "metadata": {},
   "outputs": [
    {
     "data": {
      "text/plain": [
       "['Ruger_Smith', 'Wesson']\n",
       "Categories (2, object): ['Ruger_Smith', 'Wesson']"
      ]
     },
     "execution_count": 17,
     "metadata": {},
     "output_type": "execute_result"
    }
   ],
   "source": [
    "teaching_method = df.wesson.unique()\n",
    "teaching_method"
   ]
  },
  {
   "cell_type": "code",
   "execution_count": 18,
   "id": "aeccfb90",
   "metadata": {},
   "outputs": [],
   "source": [
    "#Teaching method list\n",
    "standards_based_method = df[df.wesson == 'Ruger_Smith']\n",
    "traditional_based_method = df[df.wesson == 'Wesson']"
   ]
  },
  {
   "cell_type": "code",
   "execution_count": 19,
   "id": "e3246156",
   "metadata": {},
   "outputs": [
    {
     "data": {
      "text/html": [
       "<div>\n",
       "<style scoped>\n",
       "    .dataframe tbody tr th:only-of-type {\n",
       "        vertical-align: middle;\n",
       "    }\n",
       "\n",
       "    .dataframe tbody tr th {\n",
       "        vertical-align: top;\n",
       "    }\n",
       "\n",
       "    .dataframe thead th {\n",
       "        text-align: right;\n",
       "    }\n",
       "</style>\n",
       "<table border=\"1\" class=\"dataframe\">\n",
       "  <thead>\n",
       "    <tr style=\"text-align: right;\">\n",
       "      <th></th>\n",
       "      <th>Student</th>\n",
       "      <th>Teacher</th>\n",
       "      <th>Gender</th>\n",
       "      <th>Ethnic</th>\n",
       "      <th>Freeredu</th>\n",
       "      <th>Score</th>\n",
       "      <th>wesson</th>\n",
       "    </tr>\n",
       "  </thead>\n",
       "  <tbody>\n",
       "    <tr>\n",
       "      <th>0</th>\n",
       "      <td>1.0</td>\n",
       "      <td>Ruger</td>\n",
       "      <td>Female</td>\n",
       "      <td>Asian</td>\n",
       "      <td>Free lunch</td>\n",
       "      <td>76.0</td>\n",
       "      <td>Ruger_Smith</td>\n",
       "    </tr>\n",
       "    <tr>\n",
       "      <th>1</th>\n",
       "      <td>2.0</td>\n",
       "      <td>Ruger</td>\n",
       "      <td>Female</td>\n",
       "      <td>Hispanic</td>\n",
       "      <td>Paid lunch</td>\n",
       "      <td>56.0</td>\n",
       "      <td>Ruger_Smith</td>\n",
       "    </tr>\n",
       "    <tr>\n",
       "      <th>2</th>\n",
       "      <td>3.0</td>\n",
       "      <td>Ruger</td>\n",
       "      <td>Female</td>\n",
       "      <td>African-American</td>\n",
       "      <td>Free lunch</td>\n",
       "      <td>34.0</td>\n",
       "      <td>Ruger_Smith</td>\n",
       "    </tr>\n",
       "    <tr>\n",
       "      <th>3</th>\n",
       "      <td>4.0</td>\n",
       "      <td>Ruger</td>\n",
       "      <td>Female</td>\n",
       "      <td>Asian</td>\n",
       "      <td>Paid lunch</td>\n",
       "      <td>59.0</td>\n",
       "      <td>Ruger_Smith</td>\n",
       "    </tr>\n",
       "    <tr>\n",
       "      <th>4</th>\n",
       "      <td>5.0</td>\n",
       "      <td>Ruger</td>\n",
       "      <td>Male</td>\n",
       "      <td>Hispanic</td>\n",
       "      <td>Free lunch</td>\n",
       "      <td>73.0</td>\n",
       "      <td>Ruger_Smith</td>\n",
       "    </tr>\n",
       "  </tbody>\n",
       "</table>\n",
       "</div>"
      ],
      "text/plain": [
       "   Student Teacher  Gender            Ethnic    Freeredu  Score       wesson\n",
       "0      1.0   Ruger  Female             Asian  Free lunch   76.0  Ruger_Smith\n",
       "1      2.0   Ruger  Female          Hispanic  Paid lunch   56.0  Ruger_Smith\n",
       "2      3.0   Ruger  Female  African-American  Free lunch   34.0  Ruger_Smith\n",
       "3      4.0   Ruger  Female             Asian  Paid lunch   59.0  Ruger_Smith\n",
       "4      5.0   Ruger    Male          Hispanic  Free lunch   73.0  Ruger_Smith"
      ]
     },
     "execution_count": 19,
     "metadata": {},
     "output_type": "execute_result"
    }
   ],
   "source": [
    "standards_based_method.head()"
   ]
  },
  {
   "cell_type": "code",
   "execution_count": 20,
   "id": "1a900049",
   "metadata": {},
   "outputs": [
    {
     "data": {
      "text/html": [
       "<div>\n",
       "<style scoped>\n",
       "    .dataframe tbody tr th:only-of-type {\n",
       "        vertical-align: middle;\n",
       "    }\n",
       "\n",
       "    .dataframe tbody tr th {\n",
       "        vertical-align: top;\n",
       "    }\n",
       "\n",
       "    .dataframe thead th {\n",
       "        text-align: right;\n",
       "    }\n",
       "</style>\n",
       "<table border=\"1\" class=\"dataframe\">\n",
       "  <thead>\n",
       "    <tr style=\"text-align: right;\">\n",
       "      <th></th>\n",
       "      <th>Student</th>\n",
       "      <th>Teacher</th>\n",
       "      <th>Gender</th>\n",
       "      <th>Ethnic</th>\n",
       "      <th>Freeredu</th>\n",
       "      <th>Score</th>\n",
       "      <th>wesson</th>\n",
       "    </tr>\n",
       "  </thead>\n",
       "  <tbody>\n",
       "    <tr>\n",
       "      <th>140</th>\n",
       "      <td>141.0</td>\n",
       "      <td>Wesson</td>\n",
       "      <td>Male</td>\n",
       "      <td>Caucasian</td>\n",
       "      <td>Paid lunch</td>\n",
       "      <td>51.0</td>\n",
       "      <td>Wesson</td>\n",
       "    </tr>\n",
       "    <tr>\n",
       "      <th>141</th>\n",
       "      <td>142.0</td>\n",
       "      <td>Wesson</td>\n",
       "      <td>Male</td>\n",
       "      <td>Hispanic</td>\n",
       "      <td>Free lunch</td>\n",
       "      <td>71.0</td>\n",
       "      <td>Wesson</td>\n",
       "    </tr>\n",
       "    <tr>\n",
       "      <th>142</th>\n",
       "      <td>143.0</td>\n",
       "      <td>Wesson</td>\n",
       "      <td>Male</td>\n",
       "      <td>African-American</td>\n",
       "      <td>Free lunch</td>\n",
       "      <td>77.0</td>\n",
       "      <td>Wesson</td>\n",
       "    </tr>\n",
       "    <tr>\n",
       "      <th>143</th>\n",
       "      <td>144.0</td>\n",
       "      <td>Wesson</td>\n",
       "      <td>Female</td>\n",
       "      <td>Asian</td>\n",
       "      <td>Paid lunch</td>\n",
       "      <td>85.0</td>\n",
       "      <td>Wesson</td>\n",
       "    </tr>\n",
       "    <tr>\n",
       "      <th>144</th>\n",
       "      <td>145.0</td>\n",
       "      <td>Wesson</td>\n",
       "      <td>Female</td>\n",
       "      <td>Caucasian</td>\n",
       "      <td>Paid lunch</td>\n",
       "      <td>89.0</td>\n",
       "      <td>Wesson</td>\n",
       "    </tr>\n",
       "  </tbody>\n",
       "</table>\n",
       "</div>"
      ],
      "text/plain": [
       "     Student Teacher  Gender            Ethnic    Freeredu  Score  wesson\n",
       "140    141.0  Wesson    Male         Caucasian  Paid lunch   51.0  Wesson\n",
       "141    142.0  Wesson    Male          Hispanic  Free lunch   71.0  Wesson\n",
       "142    143.0  Wesson    Male  African-American  Free lunch   77.0  Wesson\n",
       "143    144.0  Wesson  Female             Asian  Paid lunch   85.0  Wesson\n",
       "144    145.0  Wesson  Female         Caucasian  Paid lunch   89.0  Wesson"
      ]
     },
     "execution_count": 20,
     "metadata": {},
     "output_type": "execute_result"
    }
   ],
   "source": [
    "traditional_based_method.head()"
   ]
  },
  {
   "cell_type": "markdown",
   "id": "03c0e67a",
   "metadata": {},
   "source": [
    "Results By Teaching Method"
   ]
  },
  {
   "cell_type": "code",
   "execution_count": 21,
   "id": "35c84199",
   "metadata": {},
   "outputs": [
    {
     "data": {
      "text/html": [
       "<div>\n",
       "<style scoped>\n",
       "    .dataframe tbody tr th:only-of-type {\n",
       "        vertical-align: middle;\n",
       "    }\n",
       "\n",
       "    .dataframe tbody tr th {\n",
       "        vertical-align: top;\n",
       "    }\n",
       "\n",
       "    .dataframe thead th {\n",
       "        text-align: right;\n",
       "    }\n",
       "</style>\n",
       "<table border=\"1\" class=\"dataframe\">\n",
       "  <thead>\n",
       "    <tr style=\"text-align: right;\">\n",
       "      <th></th>\n",
       "      <th>Student</th>\n",
       "      <th>Score</th>\n",
       "    </tr>\n",
       "  </thead>\n",
       "  <tbody>\n",
       "    <tr>\n",
       "      <th>count</th>\n",
       "      <td>140.0000</td>\n",
       "      <td>140.000000</td>\n",
       "    </tr>\n",
       "    <tr>\n",
       "      <th>mean</th>\n",
       "      <td>70.5000</td>\n",
       "      <td>62.335714</td>\n",
       "    </tr>\n",
       "    <tr>\n",
       "      <th>std</th>\n",
       "      <td>40.5586</td>\n",
       "      <td>16.678341</td>\n",
       "    </tr>\n",
       "    <tr>\n",
       "      <th>min</th>\n",
       "      <td>1.0000</td>\n",
       "      <td>30.000000</td>\n",
       "    </tr>\n",
       "    <tr>\n",
       "      <th>25%</th>\n",
       "      <td>35.7500</td>\n",
       "      <td>50.750000</td>\n",
       "    </tr>\n",
       "    <tr>\n",
       "      <th>50%</th>\n",
       "      <td>70.5000</td>\n",
       "      <td>64.000000</td>\n",
       "    </tr>\n",
       "    <tr>\n",
       "      <th>75%</th>\n",
       "      <td>105.2500</td>\n",
       "      <td>74.000000</td>\n",
       "    </tr>\n",
       "    <tr>\n",
       "      <th>max</th>\n",
       "      <td>140.0000</td>\n",
       "      <td>95.000000</td>\n",
       "    </tr>\n",
       "  </tbody>\n",
       "</table>\n",
       "</div>"
      ],
      "text/plain": [
       "        Student       Score\n",
       "count  140.0000  140.000000\n",
       "mean    70.5000   62.335714\n",
       "std     40.5586   16.678341\n",
       "min      1.0000   30.000000\n",
       "25%     35.7500   50.750000\n",
       "50%     70.5000   64.000000\n",
       "75%    105.2500   74.000000\n",
       "max    140.0000   95.000000"
      ]
     },
     "execution_count": 21,
     "metadata": {},
     "output_type": "execute_result"
    }
   ],
   "source": [
    "standards_based_method.describe()"
   ]
  },
  {
   "cell_type": "code",
   "execution_count": 22,
   "id": "2a87eb3d",
   "metadata": {},
   "outputs": [
    {
     "data": {
      "text/html": [
       "<div>\n",
       "<style scoped>\n",
       "    .dataframe tbody tr th:only-of-type {\n",
       "        vertical-align: middle;\n",
       "    }\n",
       "\n",
       "    .dataframe tbody tr th {\n",
       "        vertical-align: top;\n",
       "    }\n",
       "\n",
       "    .dataframe thead th {\n",
       "        text-align: right;\n",
       "    }\n",
       "</style>\n",
       "<table border=\"1\" class=\"dataframe\">\n",
       "  <thead>\n",
       "    <tr style=\"text-align: right;\">\n",
       "      <th></th>\n",
       "      <th>Student</th>\n",
       "      <th>Score</th>\n",
       "    </tr>\n",
       "  </thead>\n",
       "  <tbody>\n",
       "    <tr>\n",
       "      <th>count</th>\n",
       "      <td>76.000000</td>\n",
       "      <td>76.000000</td>\n",
       "    </tr>\n",
       "    <tr>\n",
       "      <th>mean</th>\n",
       "      <td>178.500000</td>\n",
       "      <td>70.684211</td>\n",
       "    </tr>\n",
       "    <tr>\n",
       "      <th>std</th>\n",
       "      <td>22.083176</td>\n",
       "      <td>14.355682</td>\n",
       "    </tr>\n",
       "    <tr>\n",
       "      <th>min</th>\n",
       "      <td>141.000000</td>\n",
       "      <td>45.000000</td>\n",
       "    </tr>\n",
       "    <tr>\n",
       "      <th>25%</th>\n",
       "      <td>159.750000</td>\n",
       "      <td>58.000000</td>\n",
       "    </tr>\n",
       "    <tr>\n",
       "      <th>50%</th>\n",
       "      <td>178.500000</td>\n",
       "      <td>70.000000</td>\n",
       "    </tr>\n",
       "    <tr>\n",
       "      <th>75%</th>\n",
       "      <td>197.250000</td>\n",
       "      <td>83.000000</td>\n",
       "    </tr>\n",
       "    <tr>\n",
       "      <th>max</th>\n",
       "      <td>216.000000</td>\n",
       "      <td>94.000000</td>\n",
       "    </tr>\n",
       "  </tbody>\n",
       "</table>\n",
       "</div>"
      ],
      "text/plain": [
       "          Student      Score\n",
       "count   76.000000  76.000000\n",
       "mean   178.500000  70.684211\n",
       "std     22.083176  14.355682\n",
       "min    141.000000  45.000000\n",
       "25%    159.750000  58.000000\n",
       "50%    178.500000  70.000000\n",
       "75%    197.250000  83.000000\n",
       "max    216.000000  94.000000"
      ]
     },
     "execution_count": 22,
     "metadata": {},
     "output_type": "execute_result"
    }
   ],
   "source": [
    "traditional_based_method.describe()"
   ]
  },
  {
   "cell_type": "code",
   "execution_count": 23,
   "id": "c4c3fb5c",
   "metadata": {},
   "outputs": [
    {
     "data": {
      "text/plain": [
       "62.33571428571429"
      ]
     },
     "execution_count": 23,
     "metadata": {},
     "output_type": "execute_result"
    }
   ],
   "source": [
    "standards_based_method_Score_mean = standards_based_method.Score.mean()\n",
    "standards_based_method_Score_mean"
   ]
  },
  {
   "cell_type": "code",
   "execution_count": 24,
   "id": "82e3b49a",
   "metadata": {},
   "outputs": [
    {
     "data": {
      "text/plain": [
       "70.6842105263158"
      ]
     },
     "execution_count": 24,
     "metadata": {},
     "output_type": "execute_result"
    }
   ],
   "source": [
    "traditional_based_method_Score_mean = traditional_based_method.Score.mean()\n",
    "traditional_based_method_Score_mean"
   ]
  },
  {
   "cell_type": "code",
   "execution_count": 37,
   "id": "12d0e936",
   "metadata": {},
   "outputs": [
    {
     "data": {
      "text/plain": [
       "95.0"
      ]
     },
     "execution_count": 37,
     "metadata": {},
     "output_type": "execute_result"
    }
   ],
   "source": [
    "standards_based_method_max = standards_based_method.Score.max()\n",
    "standards_based_method_max"
   ]
  },
  {
   "cell_type": "code",
   "execution_count": 26,
   "id": "16d98670",
   "metadata": {},
   "outputs": [
    {
     "data": {
      "text/plain": [
       "94.0"
      ]
     },
     "execution_count": 26,
     "metadata": {},
     "output_type": "execute_result"
    }
   ],
   "source": [
    "traditional_based_method_max = traditional_based_method.Score.max()\n",
    "traditional_based_method_max"
   ]
  },
  {
   "cell_type": "markdown",
   "id": "cf7bb3ef",
   "metadata": {},
   "source": [
    "# Summary"
   ]
  },
  {
   "cell_type": "markdown",
   "id": "3a1ff1ec",
   "metadata": {},
   "source": [
    "In conclusion, traditional method resulted in higher maths score for students with the average score attained by students being 70.68 as compared to the standards method that averaged 62.33.\n",
    "Also, students taught using the traditional method got as high as 94 as their score and the standards method got student to score as high as 95, which is just a mark more than what was attained with the tranditional method.\n",
    "With the above, I suggest the traditional method (Weeson) should be adopted by the school as the teaching method since it yields the best outcome."
   ]
  },
  {
   "cell_type": "code",
   "execution_count": null,
   "id": "961cb90b",
   "metadata": {},
   "outputs": [],
   "source": []
  }
 ],
 "metadata": {
  "kernelspec": {
   "display_name": "Python 3",
   "language": "python",
   "name": "python3"
  },
  "language_info": {
   "codemirror_mode": {
    "name": "ipython",
    "version": 3
   },
   "file_extension": ".py",
   "mimetype": "text/x-python",
   "name": "python",
   "nbconvert_exporter": "python",
   "pygments_lexer": "ipython3",
   "version": "3.8.8"
  }
 },
 "nbformat": 4,
 "nbformat_minor": 5
}
