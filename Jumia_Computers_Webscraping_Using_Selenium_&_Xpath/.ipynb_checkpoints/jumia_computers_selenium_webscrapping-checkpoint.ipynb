{
 "cells": [
  {
   "cell_type": "code",
   "execution_count": 163,
   "id": "ee1305ea",
   "metadata": {},
   "outputs": [],
   "source": [
    "#import webdriver\n",
    "from selenium import webdriver"
   ]
  },
  {
   "cell_type": "code",
   "execution_count": 164,
   "id": "80b3acb4",
   "metadata": {},
   "outputs": [],
   "source": [
    "url = 'https://www.jumia.com.gh/computers-tablets/'"
   ]
  },
  {
   "cell_type": "code",
   "execution_count": 165,
   "id": "08e96c88",
   "metadata": {},
   "outputs": [],
   "source": [
    "#lauch browser with selenium web browser\n",
    "driver = webdriver.Chrome()"
   ]
  },
  {
   "cell_type": "code",
   "execution_count": 166,
   "id": "c67a86eb",
   "metadata": {},
   "outputs": [],
   "source": [
    "#launches a browser and get URL\n",
    "jumia_computers_driver = driver.get(url)\n",
    "jumia_computers_driver"
   ]
  },
  {
   "cell_type": "code",
   "execution_count": 170,
   "id": "6f4623ee",
   "metadata": {
    "collapsed": true
   },
   "outputs": [
    {
     "data": {
      "text/plain": [
       "['Hp Laptop 15.6” - Intel Celeron Core 2 Duo - 4G - 500GB HDD - Windows 10 - Silver',\n",
       " 'Lenovo V14-IGL -14.0″ - Intel N4020 - 4GB DDR4 RAM - 1TB HDD - Grey',\n",
       " 'Hp Laptop - Intel Celeron Core 2 Duo - 4G RAM - 500GB HDD - 15.6” - Windows10 - Silver',\n",
       " 'Lenovo Ideapad V14-IGL (82C2) - 14\" - Intel Celeron - 4GB RAM - 1TB HDD - Black',\n",
       " 'Lenovo Ideapad S145-15IGM (81MX) - Intel Celeron N4000- 1TB HDD - 4GB RAM -15.6\" - Windows 10 - Black',\n",
       " \"Hp 15 Notebook Laptop -15.6'' - Intel® Celeron® 500GB HDD - 4GB RAM - Windows 10 - Black\",\n",
       " \"Hp Laptop 14 - cf2187nia 10th Generation Intel Core i3 - 8GB RAM - 1TB HDD - 14.0'' LED Screen - Black\",\n",
       " 'Lenovo IdeaPad 1 11IGL05 11.6\" - 4GB RAM - 128GB SSD - Intel N4020 Win10 - Platinum Grey',\n",
       " \"Hp Laptop 15-dw1213nia -15.6'' - Intel Celeron N4020 - 500GB HDD - 4GB RAM - Windows 10 - Black\",\n",
       " 'Hp Notebook 15-da2937nia - 15.6\" - 10th Gen Core i7-10510U - 8GB RAM - 1TB HDD - Windows 10 - Black',\n",
       " 'Hp 15-dw1081wm Intel Pentium Gold 6405U Laptop - 4GB DDR4 RAM - 500GB HDD - Windows 10 - Scarlet Red',\n",
       " '10.1 inch Netbook PC - 1GBRAM - 8GB HDD - Android 5.1 ATM7059 - Black',\n",
       " 'Hp Notebook 15 15-DY2131WM - Core i3-1115G4- 10th Gen- 8GB Ram-256GB SSD- Windows 10 - Silver',\n",
       " 'Hp ProBook 650 G1 - 15 Inches 4th Gen Laptop - Intel Core i5 - 4GB RAM - 500GB HDD - Win 10 - Black',\n",
       " 'Hp Pavilion Gaming -Core i5-10300H -1TB DRIVE - 256SSD- 8GB RAM - 4GB Nvidia- Black',\n",
       " 'Hp 15T-ED000 x360 -15\" - Core i7-1065G7+512 SSD+16GB RAM+4GB NVIDIA MX330 - Windows 10 -Silver',\n",
       " 'Hp 15-da0021ds Intel Pentium Gold 5405U Laptop - TOUCH SCREEN 8GB RAM - 256GB SSD - Win 10 - BLUE',\n",
       " '360o Rotating Bluetooth 7 s Backlit Aluminum Keyboard For iPad 9.7\" 2018/iPad 9.7\" 2017/iPad Air/Air 2/Pro 9.7\"-Blue (blue)',\n",
       " 'Lenovo IdeaPad 1 11IGL05 11.6\" - 4GB RAM - 128GB SSD - Intel Celeron N4020 Win10 - Platinum Grey',\n",
       " 'Lenovo Thinkpad X201 - 12\" Intel Core i5 - 4G RAM - 500GB - Win 10 Pro. - Black',\n",
       " 'Lenovo V15 Intel Core i3 - 10th Generation 15.6\" - 12GB RAM -1 TB HDD - Win 10 Pro - Iron Gray',\n",
       " 'Hp ProBook 440 G8 - 14\" - Intel Core i7-1165G7 - 512SSD - 16GB RAM - Windows 10 -Silver',\n",
       " 'TDD-10.1 Netbook PC - 10.1\" - Dual-Core - 1GB RAM - Android 6.0 - White',\n",
       " 'Hp Pavilion 15-er0125od x360 - Intel Core i5 - 8GB RAM - 256GB SSD Touchscreen - Silver',\n",
       " 'DELL Vostro 3000 Series - 11th Gen Intel Core i3-1115G4 - 1TB HDD - 8GB RAM - 15.6\" - Windows 10 - Gray',\n",
       " 'DELL Latitude E6320 13 inches Laptop - Intel Core i5 2.50 GHz - 4GB DDR3 - 500GB HDD - Windows 7 Pro - Black + Free Laptop Bag',\n",
       " 'Q768 7 inch Kids Tablet Educational Learning Computer',\n",
       " 'Lenovo V14-IGL - Intel Celeron N4020- 1TB HDD - 4GB RAM - 14\" - Windows 11 Pro - Iron Gray',\n",
       " 'N1001 Netbook PC - 10.1\" - Dual-Core - 1GB RAM - Android 6.0 - Pink',\n",
       " '10.1 inch Netbook PC -1GBRAM - 8GBROM - Android 6.0 - Black',\n",
       " 'Hp 290 G4 Micro Tower PC - Intel Core i3 -10100 10th Generation - 4GB RAM - 1TBHDD - Black',\n",
       " \"Hp Laptop 14 - cf2187nia 10th Generation Intel Core i3 - 4GB RAM - 1TB HDD - 14.0'' LED Screen - Black\",\n",
       " 'Hp Pavilion 15-eg0073cl 15.6″ Touchscreen Laptop – 11th Gen Intel Core i7-1165G7 4.7 GHz -16GB RAM – 512GB SSD – Backlit Keyboard - Fog Blue',\n",
       " 'Apple MacBook Pro M1- 256GB-HDD-8GB-RAM-13.3-Space-Gray',\n",
       " 'Hp 250 G7 - 15.6\" - Intel Celeron N4000 - 1TB HDD - 4GB RAM - Windows 10 Laptop - Gray',\n",
       " 'Hp 15-DY1091WM Laptop – Core™ i3 1.20GHz – 10th Gen – 8GB – 256GB – Win10 – Silver',\n",
       " 'Lenovo V15 Intel Core i3 - 10th Generation 15.6\" - 4 GB RAM -1 TB HDD - Win 10 Pro - Iron Gray',\n",
       " 'Foldable Non-slip Laptop N Stand Portable Thin PC Bracket Ph',\n",
       " 'Hp Pavilion 14-DQ1043CL - Intel Core i3-1005G1, 8GB, 256GB SSD, Win10, Backlit Keyboard – Silver',\n",
       " 'Q768 7 inch Kids Tablet Educational Learning Computer',\n",
       " 'Hp Laptop 14 inch Touchscreen - 11TH GEN Core i3-1115G4 - 8GB RAM - 256GB SSD - Windows 10 - Silver',\n",
       " 'Lenovo Ideapad S145-15IGM (81MX) - Intel Celeron N4000- 1TB HDD - 8GB RAM -15.6\" - Windows 10 - Black',\n",
       " 'Lenovo Thinkpad THINKPAD E14 14\" Notebook - Core i5-10210U - 16GB RAM - 256GB SSD - Black',\n",
       " 'DELL Vostro 3000 Series - 11th Gen Intel Core i3-1115G4 - 1TB HDD -4GB RAM -15.6\" - Windows 10 - Gray',\n",
       " \"Hp 15-da3007nia Intel Core i3 Laptop - 4GB RAM - 1TB HDD - 15.6'' LED Screen - Windows 11 Pro - Black\",\n",
       " 'Hp Pavilion Gaming -Core i5-10300H - 256SSD- 8GB RAM - 4GB Nvidia- Black',\n",
       " 'Hp Laptop 15.6” - Intel Celeron Core 2 Duo - 4G - 500GB HDD - Windows 10 - Silver',\n",
       " 'Lenovo Thinkpad X201 - 12\" Intel Core i5 - 4G RAM - 500GB - Win 10 Pro. - Black']"
      ]
     },
     "execution_count": 170,
     "metadata": {},
     "output_type": "execute_result"
    }
   ],
   "source": [
    "#use the find_elements_by_xpath to locate the name elements by using the xpath of the elements \n",
    "#and assign to 'product_name' variable\n",
    "product_name = [name.text for name in driver.find_elements_by_xpath('//h3[@class = \"name\"]')]\n",
    "product_name"
   ]
  },
  {
   "cell_type": "code",
   "execution_count": 171,
   "id": "7ce92def",
   "metadata": {},
   "outputs": [
    {
     "data": {
      "text/plain": [
       "48"
      ]
     },
     "execution_count": 171,
     "metadata": {},
     "output_type": "execute_result"
    }
   ],
   "source": [
    "#check length of product_name variable\n",
    "len(product_name)"
   ]
  },
  {
   "cell_type": "code",
   "execution_count": 172,
   "id": "f93cc25f",
   "metadata": {
    "collapsed": true
   },
   "outputs": [
    {
     "data": {
      "text/plain": [
       "['GH₵ 1,622.40',\n",
       " 'GH₵ 2,489.00',\n",
       " 'GH₵ 1,656.00',\n",
       " 'GH₵ 2,165.00',\n",
       " 'GH₵ 2,250.00',\n",
       " 'GH₵ 2,589.00',\n",
       " 'GH₵ 3,250.00',\n",
       " 'GH₵ 1,889.00',\n",
       " 'GH₵ 2,435.00',\n",
       " 'GH₵ 4,750.00',\n",
       " 'GH₵ 2,698.00',\n",
       " 'GH₵ 750.00',\n",
       " 'GH₵ 3,700.00',\n",
       " 'GH₵ 2,710.00',\n",
       " 'GH₵ 5,800.00',\n",
       " 'GH₵ 9,800.00',\n",
       " 'GH₵ 2,950.00',\n",
       " 'GH₵ 499.00',\n",
       " 'GH₵ 2,294.00',\n",
       " 'GH₵ 1,814.40',\n",
       " 'GH₵ 3,434.00',\n",
       " 'GH₵ 8,900.00',\n",
       " 'GH₵ 855.00',\n",
       " 'GH₵ 4,850.00',\n",
       " 'GH₵ 3,789.00',\n",
       " 'GH₵ 2,120.00',\n",
       " 'GH₵ 278.00',\n",
       " 'GH₵ 2,490.00',\n",
       " 'GH₵ 719.00',\n",
       " 'GH₵ 779.00',\n",
       " 'GH₵ 3,818.00',\n",
       " 'GH₵ 3,013.00',\n",
       " 'GH₵ 6,990.00',\n",
       " 'GH₵ 9,000.00',\n",
       " 'GH₵ 2,789.00',\n",
       " 'GH₵ 3,399.00',\n",
       " 'GH₵ 2,950.00',\n",
       " 'GH₵ 129.00',\n",
       " 'GH₵ 3,399.00',\n",
       " 'GH₵ 278.00',\n",
       " 'GH₵ 3,699.00',\n",
       " 'GH₵ 2,930.00',\n",
       " 'GH₵ 6,200.00',\n",
       " 'GH₵ 3,415.00',\n",
       " 'GH₵ 3,090.00',\n",
       " 'GH₵ 6,300.00',\n",
       " 'GH₵ 1,622.40',\n",
       " 'GH₵ 1,814.40']"
      ]
     },
     "execution_count": 172,
     "metadata": {},
     "output_type": "execute_result"
    }
   ],
   "source": [
    "#use the find_elements_by_xpath to locate the price elements by using the xpath of the elements \n",
    "#and assign to 'product_price' variable\n",
    "product_price = [price.text for price in driver.find_elements_by_xpath('//div[@class = \"info\"]/div[@class = \"prc\"]')]\n",
    "product_price"
   ]
  },
  {
   "cell_type": "code",
   "execution_count": 173,
   "id": "ef231f52",
   "metadata": {},
   "outputs": [
    {
     "data": {
      "text/plain": [
       "48"
      ]
     },
     "execution_count": 173,
     "metadata": {},
     "output_type": "execute_result"
    }
   ],
   "source": [
    "#check length of product_price variable\n",
    "len(product_price)"
   ]
  },
  {
   "cell_type": "code",
   "execution_count": 197,
   "id": "dacfa3d4",
   "metadata": {
    "collapsed": true
   },
   "outputs": [
    {
     "data": {
      "text/plain": [
       "['https://www.jumia.com.gh/hp-laptop-15.6-intel-celeron-core-2-duo-4g-500gb-hdd-windows-10-silver-33021134.html',\n",
       " 'https://www.jumia.com.gh/v14-igl-14.0-display-intel-n4020-processor-4gb-ddr4-ram-1tb-grey-lenovo-mpg441883.html',\n",
       " 'https://www.jumia.com.gh/hp-laptop-intel-celeron-core-2-duo-4g-ram-500gb-hdd-15.6-windows10-silver-17378353.html',\n",
       " 'https://www.jumia.com.gh/lenovo-ideapad-v14-igl-82c2-14-intel-celeron-4gb-ram-1tb-hdd-black-11323029.html',\n",
       " 'https://www.jumia.com.gh/ideapad-s145-15igm-81mx-intel-celeron-n4000-1tb-hdd-4gb-ram-15.6-windows-10-black-lenovo-mpg441665.html',\n",
       " 'https://www.jumia.com.gh/15-notebook-laptop-15.6-intelr-celeronr-500gb-hdd-4gb-ram-windows-10-black-hp-mpg439272.html',\n",
       " 'https://www.jumia.com.gh/hp-laptop-14-cf2187nia-10th-generation-intel-core-i3-8gb-ram-1tb-hdd-14.0-led-screen-black-31562448.html',\n",
       " 'https://www.jumia.com.gh/ideapad-1-11igl05-11.6-4gb-ram-128gb-ssd-intel-celeron-n4020-win10-grey-lenovo-mpg450600.html',\n",
       " 'https://www.jumia.com.gh/laptop-15-dw1213nia-15.6-intel-celeron-n4020-500gb-hdd-4gb-ram-windows-10-black-hp-mpg453494.html',\n",
       " 'https://www.jumia.com.gh/notebook-15-da2937nia-15.6-10th-gen-core-i7-10510u-8gb-ram-1tb-hdd-windows-10-black-hp-mpg444349.html',\n",
       " 'https://www.jumia.com.gh/15-dw1081wm-intel-pentium-gold-6405u-laptop-4gb-ddr4-ram-500gb-hdd-windows-10-scarlet-red-hp-mpg441944.html',\n",
       " 'https://www.jumia.com.gh/generic-10.1-inch-netbook-pc-1gbram-8gb-hdd-android-5.1-atm7059-black-2125446.html',\n",
       " 'https://www.jumia.com.gh/hp-notebook-15-15-dy2131wm-core-i3-1115g4-10th-gen-8gb-ram-256gb-ssd-windows-10-silver-37691586.html',\n",
       " 'https://www.jumia.com.gh/hp-probook-650-g1-15-inches-4th-gen-laptop-intel-core-i5-4gb-ram-500gb-hdd-win-10-black-29880586.html',\n",
       " 'https://www.jumia.com.gh/hp-pavilion-gaming-core-i5-10300h-1tb-drive-256ssd-8gb-ram-4gb-nvidia-black-41170409.html',\n",
       " 'https://www.jumia.com.gh/hp-15t-ed000-x360-15-core-i7-1065g7512-ssd16gb-ram4gb-nvidia-mx330-windows-10-silver-30616503.html',\n",
       " 'https://www.jumia.com.gh/hp-15-da0021ds-intel-pentium-gold-5405u-laptop-touch-screen-8gb-ram-256gb-ssd-win-10-blue-40427049.html',\n",
       " 'https://www.jumia.com.gh/generic-360o-rotating-bluetooth-7-s-backlit-aluminum-keyboard-for-ipad-9.7-2018ipad-9.7-2017ipad-airair-2pro-9.7-blue-blue-29830302.html',\n",
       " 'https://www.jumia.com.gh/lenovo-ideapad-1-11igl05-11.6-4gb-ram-128gb-ssd-intel-celeron-n4020-win10-platinum-grey-36179478.html',\n",
       " 'https://www.jumia.com.gh/thinkpad-x201-12-intel-core-i5-4g-ram-320gb-win-7-pro.-black-lenovo-mpg453269.html',\n",
       " 'https://www.jumia.com.gh/lenovo-v15-intel-core-i3-10th-generation-15.6-12gb-ram-1-tb-hdd-win-10-pro-iron-gray-31562039.html',\n",
       " 'https://www.jumia.com.gh/hp-probook-440-g8-14-intel-core-i7-1165g7-512ssd-16gb-ram-windows-10-silver-31036063.html',\n",
       " 'https://www.jumia.com.gh/generic-tdd-10.1-netbook-pc-10.1-dual-core-1gb-ram-android-6.0-white-2125415.html',\n",
       " 'https://www.jumia.com.gh/hp-pavilion-15-er0125od-x360-intel-core-i5-8gb-ram-256gb-ssd-touchscreen-silver-42403162.html',\n",
       " 'https://www.jumia.com.gh/dell-vostro-3000-series-11th-gen-intel-core-i3-1115g4-1tb-hdd-8gb-ram-15.6-windows-10-gray-31343495.html',\n",
       " 'https://www.jumia.com.gh/latitude-e6320-13-inches-laptop-intel-core-i5-2.50-ghz-4gb-ddr3-320gb-hdd-windows-7-pro-black-dell-mpg453232.html',\n",
       " 'https://www.jumia.com.gh/generic-q768-7-inch-kids-tablet-educational-learning-computer-15430961.html',\n",
       " 'https://www.jumia.com.gh/v14-igl-intel-celeron-n4020-1tb-hdd-4gb-ram-14-windows-11-pro-iron-gray-lenovo-mpg454943.html',\n",
       " 'https://www.jumia.com.gh/generic-n1001-netbook-pc-10.1-dual-core-1gb-ram-android-6.0-pink-2121822.html',\n",
       " 'https://www.jumia.com.gh/generic-10.1-inch-netbook-pc-1gbram-8gbrom-android-6.0-black-2125375.html',\n",
       " 'https://www.jumia.com.gh/hp-290-g4-micro-tower-pc-intel-core-i3-10100-10th-generation-4gb-ram-1tbhdd-black-36946136.html',\n",
       " 'https://www.jumia.com.gh/laptop-14-cf2187nia-10th-generation-intel-core-i3-4gb-ram-1tb-hdd-14.0-led-screen-black-hp-mpg453493.html',\n",
       " 'https://www.jumia.com.gh/hp-pavilion-15-eg0073cl-15.6-touchscreen-laptop-11th-gen-intel-core-i7-1165g7-4.7-ghz-16gb-ram-512gb-ssd-backlit-keyboard-fog-blue-42030184.html',\n",
       " 'https://www.jumia.com.gh/macbook-pro-m1-256gb-hdd-8gb-ram-13.3-space-gray-apple-mpg453612.html',\n",
       " 'https://www.jumia.com.gh/250-g7-15.6-intel-celeron-n4000-1tb-hdd-4gb-ram-windows-10-gray-hp-mpg437549.html',\n",
       " 'https://www.jumia.com.gh/hp-15-dy1091wm-laptop-coretm-i3-1.20ghz-10th-gen-8gb-256gb-win10-silver-22136744.html',\n",
       " 'https://www.jumia.com.gh/v15-intel-core-i3-10th-generation-15.6-4-gb-ram-1-tb-hdd-win-11-pro-iron-gray-lenovo-mpg453449.html',\n",
       " 'https://www.jumia.com.gh/generic-foldable-non-slip-laptop-n-stand-portable-thin-pc-bracket-ph-37248977.html',\n",
       " 'https://www.jumia.com.gh/pavilion-14-dq1043cl-intel-core-i3-1005g1-8gb-256gb-ssd-win10-backlit-keyboard-silver-hp-mpg442142.html',\n",
       " 'https://www.jumia.com.gh/generic-q768-7-inch-kids-tablet-educational-learning-computer-15430958.html',\n",
       " 'https://www.jumia.com.gh/hp-laptop-14-inch-touchscreen-11th-gen-core-i3-1115g4-8gb-ram-256gb-ssd-windows-10-silver-33364926.html',\n",
       " 'https://www.jumia.com.gh/lenovo-ideapad-s145-15igm-81mx-intel-celeron-n4000-1tb-hdd-8gb-ram-15.6-windows-10-black-30948622.html',\n",
       " 'https://www.jumia.com.gh/lenovo-thinkpad-thinkpad-e14-14-notebook-core-i5-10210u-16gb-ram-256gb-ssd-black-22564564.html',\n",
       " 'https://www.jumia.com.gh/dell-vostro-3000-series-11th-gen-intel-core-i3-1115g4-1tb-hdd-4gb-ram-15.6-windows-10-gray-31343477.html',\n",
       " 'https://www.jumia.com.gh/15-da3007nia-intel-core-i3-laptop-4gb-ram-1tb-hdd-15.6-led-screen-windows-11-pro-black-hp-mpg455286.html',\n",
       " 'https://www.jumia.com.gh/pavilion-gaming-core-i5-10300h-256ssd-8gb-ram-4gb-nvidia-black-hp-mpg455211.html',\n",
       " 'https://www.jumia.com.gh/hp-laptop-15.6-intel-celeron-core-2-duo-4g-500gb-hdd-windows-10-silver-33021134.html',\n",
       " 'https://www.jumia.com.gh/thinkpad-x201-12-intel-core-i5-4g-ram-320gb-win-7-pro.-black-lenovo-mpg453269.html']"
      ]
     },
     "execution_count": 197,
     "metadata": {},
     "output_type": "execute_result"
    }
   ],
   "source": [
    "#use the find_elements_by_xpath to locate the links to the products elements by using the xpath of the elements \n",
    "#and assign to 'products_link' variable\n",
    "products_link = [links.get_attribute(\"href\") for links in driver.find_elements_by_xpath('//article[contains (@class, \"prd _fb\")]/a')]\n",
    "products_link"
   ]
  },
  {
   "cell_type": "code",
   "execution_count": 198,
   "id": "f5f0691b",
   "metadata": {},
   "outputs": [
    {
     "data": {
      "text/plain": [
       "48"
      ]
     },
     "execution_count": 198,
     "metadata": {},
     "output_type": "execute_result"
    }
   ],
   "source": [
    "#check length of products_link variable\n",
    "len(products_link)"
   ]
  },
  {
   "cell_type": "code",
   "execution_count": 199,
   "id": "f9949c4e",
   "metadata": {},
   "outputs": [],
   "source": [
    "#imort pandas\n",
    "import pandas as pd"
   ]
  },
  {
   "cell_type": "code",
   "execution_count": 200,
   "id": "58c2c113",
   "metadata": {
    "collapsed": true
   },
   "outputs": [
    {
     "data": {
      "text/html": [
       "<div>\n",
       "<style scoped>\n",
       "    .dataframe tbody tr th:only-of-type {\n",
       "        vertical-align: middle;\n",
       "    }\n",
       "\n",
       "    .dataframe tbody tr th {\n",
       "        vertical-align: top;\n",
       "    }\n",
       "\n",
       "    .dataframe thead th {\n",
       "        text-align: right;\n",
       "    }\n",
       "</style>\n",
       "<table border=\"1\" class=\"dataframe\">\n",
       "  <thead>\n",
       "    <tr style=\"text-align: right;\">\n",
       "      <th></th>\n",
       "      <th>Product Name</th>\n",
       "      <th>Price</th>\n",
       "      <th>Product Link</th>\n",
       "    </tr>\n",
       "  </thead>\n",
       "  <tbody>\n",
       "    <tr>\n",
       "      <th>0</th>\n",
       "      <td>Hp Laptop 15.6” - Intel Celeron Core 2 Duo - 4...</td>\n",
       "      <td>GH₵ 1,622.40</td>\n",
       "      <td>https://www.jumia.com.gh/hp-laptop-15.6-intel-...</td>\n",
       "    </tr>\n",
       "    <tr>\n",
       "      <th>1</th>\n",
       "      <td>Lenovo V14-IGL -14.0″ - Intel N4020 - 4GB DDR4...</td>\n",
       "      <td>GH₵ 2,489.00</td>\n",
       "      <td>https://www.jumia.com.gh/v14-igl-14.0-display-...</td>\n",
       "    </tr>\n",
       "    <tr>\n",
       "      <th>2</th>\n",
       "      <td>Hp Laptop - Intel Celeron Core 2 Duo - 4G RAM ...</td>\n",
       "      <td>GH₵ 1,656.00</td>\n",
       "      <td>https://www.jumia.com.gh/hp-laptop-intel-celer...</td>\n",
       "    </tr>\n",
       "    <tr>\n",
       "      <th>3</th>\n",
       "      <td>Lenovo Ideapad V14-IGL (82C2) - 14\" - Intel Ce...</td>\n",
       "      <td>GH₵ 2,165.00</td>\n",
       "      <td>https://www.jumia.com.gh/lenovo-ideapad-v14-ig...</td>\n",
       "    </tr>\n",
       "    <tr>\n",
       "      <th>4</th>\n",
       "      <td>Lenovo Ideapad S145-15IGM (81MX) - Intel Celer...</td>\n",
       "      <td>GH₵ 2,250.00</td>\n",
       "      <td>https://www.jumia.com.gh/ideapad-s145-15igm-81...</td>\n",
       "    </tr>\n",
       "  </tbody>\n",
       "</table>\n",
       "</div>"
      ],
      "text/plain": [
       "                                        Product Name         Price  \\\n",
       "0  Hp Laptop 15.6” - Intel Celeron Core 2 Duo - 4...  GH₵ 1,622.40   \n",
       "1  Lenovo V14-IGL -14.0″ - Intel N4020 - 4GB DDR4...  GH₵ 2,489.00   \n",
       "2  Hp Laptop - Intel Celeron Core 2 Duo - 4G RAM ...  GH₵ 1,656.00   \n",
       "3  Lenovo Ideapad V14-IGL (82C2) - 14\" - Intel Ce...  GH₵ 2,165.00   \n",
       "4  Lenovo Ideapad S145-15IGM (81MX) - Intel Celer...  GH₵ 2,250.00   \n",
       "\n",
       "                                        Product Link  \n",
       "0  https://www.jumia.com.gh/hp-laptop-15.6-intel-...  \n",
       "1  https://www.jumia.com.gh/v14-igl-14.0-display-...  \n",
       "2  https://www.jumia.com.gh/hp-laptop-intel-celer...  \n",
       "3  https://www.jumia.com.gh/lenovo-ideapad-v14-ig...  \n",
       "4  https://www.jumia.com.gh/ideapad-s145-15igm-81...  "
      ]
     },
     "execution_count": 200,
     "metadata": {},
     "output_type": "execute_result"
    }
   ],
   "source": [
    "# put data into dataframe\n",
    "df = pd.DataFrame({\"Product Name\": product_name, \"Price\": product_price, \"Product Link\": products_link})\n",
    "df.head()"
   ]
  },
  {
   "cell_type": "code",
   "execution_count": 201,
   "id": "9d4dc250",
   "metadata": {},
   "outputs": [],
   "source": [
    "df.to_csv(\"Jumia_Computers.csv\")"
   ]
  }
 ],
 "metadata": {
  "kernelspec": {
   "display_name": "Python 3",
   "language": "python",
   "name": "python3"
  },
  "language_info": {
   "codemirror_mode": {
    "name": "ipython",
    "version": 3
   },
   "file_extension": ".py",
   "mimetype": "text/x-python",
   "name": "python",
   "nbconvert_exporter": "python",
   "pygments_lexer": "ipython3",
   "version": "3.8.8"
  }
 },
 "nbformat": 4,
 "nbformat_minor": 5
}
