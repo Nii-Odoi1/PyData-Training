{
 "cells": [
  {
   "cell_type": "code",
   "execution_count": 131,
   "id": "8b31dd79",
   "metadata": {},
   "outputs": [],
   "source": [
    "#import webdriver\n",
    "from selenium import webdriver\n",
    "import math\n",
    "import pandas as pd"
   ]
  },
  {
   "cell_type": "code",
   "execution_count": 132,
   "id": "700d2f37",
   "metadata": {},
   "outputs": [],
   "source": [
    "url = 'https://www.yarnplaza.com/'\n",
    "url1 = url\n",
    "url2 = url"
   ]
  },
  {
   "cell_type": "code",
   "execution_count": 133,
   "id": "444ac45e",
   "metadata": {},
   "outputs": [],
   "source": [
    "#lauch browser with selenium web browser\n",
    "driver = webdriver.Chrome()"
   ]
  },
  {
   "cell_type": "code",
   "execution_count": 134,
   "id": "006e264c",
   "metadata": {},
   "outputs": [],
   "source": [
    "#launches a browser and get URL\n",
    "driver.get(url)"
   ]
  },
  {
   "cell_type": "markdown",
   "id": "0ea09fdb",
   "metadata": {},
   "source": [
    "# DMC Natura XL"
   ]
  },
  {
   "cell_type": "code",
   "execution_count": 135,
   "id": "c09af15e",
   "metadata": {},
   "outputs": [],
   "source": [
    "product_search = driver.find_element_by_id('searchSooqrTop')\n",
    "product_search.click()\n",
    "DMC = product_search.send_keys('DMC Natura XL')"
   ]
  },
  {
   "cell_type": "code",
   "execution_count": 45,
   "id": "d8845c51",
   "metadata": {},
   "outputs": [],
   "source": [
    "#no need to click button since keyword search alone gives results\n",
    "#search_button = driver.find_element_by_xpath('//i[@class=\"fa fa-search\"]')\n",
    "#search_button.click()"
   ]
  },
  {
   "cell_type": "code",
   "execution_count": 136,
   "id": "e8536526",
   "metadata": {},
   "outputs": [],
   "source": [
    "DMC_product_page = driver.find_element_by_xpath('//h3/a[@title=\"DMC Natura XL\"]')\n",
    "DMC_product_page.click()"
   ]
  },
  {
   "cell_type": "code",
   "execution_count": 139,
   "id": "5da0589d",
   "metadata": {},
   "outputs": [
    {
     "data": {
      "text/plain": [
       "'DMC Natura XL 02 Black'"
      ]
     },
     "execution_count": 139,
     "metadata": {},
     "output_type": "execute_result"
    }
   ],
   "source": [
    "DMC_product_name = driver.find_element_by_xpath('//*[@id=\"pageheadertitle\"]')\n",
    "DMC_product_name.text"
   ]
  },
  {
   "cell_type": "code",
   "execution_count": 140,
   "id": "10a19a92",
   "metadata": {},
   "outputs": [
    {
     "data": {
      "text/plain": [
       "'€9'"
      ]
     },
     "execution_count": 140,
     "metadata": {},
     "output_type": "execute_result"
    }
   ],
   "source": [
    "DMC_currency = driver.find_element_by_xpath('//*[@id=\"ContentPlaceHolder1_upPricePanel\"]/span/span[1]')\n",
    "DMC_Natura_currency = DMC_currency.text\n",
    "DMC_Natura_XL_price = driver.find_element_by_xpath('//*[@id=\"ContentPlaceHolder1_upPricePanel\"]/span/span[2]')\n",
    "DMC_price = DMC_Natura_XL_price.text\n",
    "new_DMC_price = DMC_price.replace(\",\", \".\")\n",
    "DMC_rounded = math.ceil(float(new_DMC_price))\n",
    "DMC_final_price = DMC_Natura_currency + str(DMC_rounded)\n",
    "DMC_final_price"
   ]
  },
  {
   "cell_type": "code",
   "execution_count": 141,
   "id": "598e0ba4",
   "metadata": {},
   "outputs": [
    {
     "data": {
      "text/plain": [
       "'DMC'"
      ]
     },
     "execution_count": 141,
     "metadata": {},
     "output_type": "execute_result"
    }
   ],
   "source": [
    "DMC_Natura_XL_brand = driver.find_element_by_xpath('//*[@id=\"pdetailTableSpecs\"]/table/tbody/tr[17]/td[2]/a/span/span')\n",
    "DMC_Natura_XL_brand.text"
   ]
  },
  {
   "cell_type": "code",
   "execution_count": 142,
   "id": "4da85812",
   "metadata": {
    "scrolled": true
   },
   "outputs": [
    {
     "data": {
      "text/plain": [
       "'100% Cotton'"
      ]
     },
     "execution_count": 142,
     "metadata": {},
     "output_type": "execute_result"
    }
   ],
   "source": [
    "DMC_Natura_XL_composition = driver.find_element_by_xpath('//*[@id=\"pdetailTableSpecs\"]/table/tbody/tr[4]/td[2]')\n",
    "DMC_Natura_XL_composition.text"
   ]
  },
  {
   "cell_type": "code",
   "execution_count": 143,
   "id": "14bd9279",
   "metadata": {},
   "outputs": [
    {
     "data": {
      "text/plain": [
       "'8 mm'"
      ]
     },
     "execution_count": 143,
     "metadata": {},
     "output_type": "execute_result"
    }
   ],
   "source": [
    "DMC_Natura_XL_needle_size = driver.find_element_by_xpath('//*[@id=\"pdetailTableSpecs\"]/table/tbody/tr[5]/td[2]')\n",
    "DMC_Natura_XL_needle_size.text"
   ]
  },
  {
   "cell_type": "code",
   "execution_count": 144,
   "id": "6455cbe7",
   "metadata": {},
   "outputs": [
    {
     "data": {
      "text/plain": [
       "'Worldwide/international shipping'"
      ]
     },
     "execution_count": 144,
     "metadata": {},
     "output_type": "execute_result"
    }
   ],
   "source": [
    "DMC_Natura_XL_delivery = driver.find_element_by_xpath('//*[@id=\"form1\"]/div[11]/div/ul/li[4]')\n",
    "DMC_Natura_XL_delivery.text"
   ]
  },
  {
   "cell_type": "code",
   "execution_count": 145,
   "id": "b718baa0",
   "metadata": {},
   "outputs": [
    {
     "data": {
      "text/html": [
       "<div>\n",
       "<style scoped>\n",
       "    .dataframe tbody tr th:only-of-type {\n",
       "        vertical-align: middle;\n",
       "    }\n",
       "\n",
       "    .dataframe tbody tr th {\n",
       "        vertical-align: top;\n",
       "    }\n",
       "\n",
       "    .dataframe thead th {\n",
       "        text-align: right;\n",
       "    }\n",
       "</style>\n",
       "<table border=\"1\" class=\"dataframe\">\n",
       "  <thead>\n",
       "    <tr style=\"text-align: right;\">\n",
       "      <th></th>\n",
       "      <th>Brand</th>\n",
       "      <th>Product Name</th>\n",
       "      <th>Price</th>\n",
       "      <th>Composition</th>\n",
       "      <th>Neddle size</th>\n",
       "      <th>Delivery</th>\n",
       "    </tr>\n",
       "  </thead>\n",
       "  <tbody>\n",
       "    <tr>\n",
       "      <th>0</th>\n",
       "      <td>DMC</td>\n",
       "      <td>DMC Natura XL 02 Black</td>\n",
       "      <td>€9</td>\n",
       "      <td>100% Cotton</td>\n",
       "      <td>8 mm</td>\n",
       "      <td>Worldwide/international shipping</td>\n",
       "    </tr>\n",
       "  </tbody>\n",
       "</table>\n",
       "</div>"
      ],
      "text/plain": [
       "  Brand            Product Name Price  Composition Neddle size  \\\n",
       "0   DMC  DMC Natura XL 02 Black    €9  100% Cotton        8 mm   \n",
       "\n",
       "                           Delivery  \n",
       "0  Worldwide/international shipping  "
      ]
     },
     "execution_count": 145,
     "metadata": {},
     "output_type": "execute_result"
    }
   ],
   "source": [
    "df = pd.DataFrame({\n",
    "    \"Brand\": [DMC_Natura_XL_brand.text],\n",
    "    \"Product Name\": [DMC_product_name.text],\n",
    "    \"Price\": [DMC_final_price],\n",
    "    \"Composition\": [DMC_Natura_XL_composition.text],         \n",
    "    \"Neddle size\": [DMC_Natura_XL_needle_size.text],\n",
    "    \"Delivery\": [DMC_Natura_XL_delivery.text]\n",
    "})\n",
    "df"
   ]
  },
  {
   "cell_type": "markdown",
   "id": "74e71511",
   "metadata": {},
   "source": [
    "# Drops Safran"
   ]
  },
  {
   "cell_type": "code",
   "execution_count": 147,
   "id": "0ebcbf8b",
   "metadata": {},
   "outputs": [],
   "source": [
    "driver.get(url1)\n",
    "product_search = driver.find_element_by_id('searchSooqrTop')\n",
    "product_search.click()\n",
    "Drops = product_search.send_keys('Drops Safran')"
   ]
  },
  {
   "cell_type": "code",
   "execution_count": 148,
   "id": "e9330e3b",
   "metadata": {},
   "outputs": [],
   "source": [
    "Drops_product_page = driver.find_element_by_xpath('//*[@id=\"sooqrView1ed85d54e833cd8d\"]/div[4]/div/div[2]/div/div/div[1]/h3/a')\n",
    "Drops_product_page.click()"
   ]
  },
  {
   "cell_type": "code",
   "execution_count": 149,
   "id": "f7e5a74d",
   "metadata": {},
   "outputs": [],
   "source": [
    "#Drops_product_page.find_element_by_xpath('//*[@id=\"pdetailTableSpecs\"]/table/tbody/tr[5]/td[2]')"
   ]
  },
  {
   "cell_type": "code",
   "execution_count": 150,
   "id": "64580411",
   "metadata": {},
   "outputs": [
    {
     "data": {
      "text/plain": [
       "'Drops Safran 1 Light-pink'"
      ]
     },
     "execution_count": 150,
     "metadata": {},
     "output_type": "execute_result"
    }
   ],
   "source": [
    "Drops_product_name = driver.find_element_by_xpath('//*[@id=\"pageheadertitle\"]')\n",
    "Drops_product_name.text"
   ]
  },
  {
   "cell_type": "code",
   "execution_count": 151,
   "id": "827de2c8",
   "metadata": {},
   "outputs": [
    {
     "data": {
      "text/plain": [
       "'Drops'"
      ]
     },
     "execution_count": 151,
     "metadata": {},
     "output_type": "execute_result"
    }
   ],
   "source": [
    "Drops_Safran_brand = driver.find_element_by_xpath('//*[@id=\"pdetailTableSpecs\"]/table/tbody/tr[15]/td[2]/a/span/span')\n",
    "Drops_Safran_brand.text"
   ]
  },
  {
   "cell_type": "code",
   "execution_count": 152,
   "id": "7279e75e",
   "metadata": {},
   "outputs": [
    {
     "data": {
      "text/plain": [
       "'€2'"
      ]
     },
     "execution_count": 152,
     "metadata": {},
     "output_type": "execute_result"
    }
   ],
   "source": [
    "Drops_currency = driver.find_element_by_xpath('//*[@id=\"ContentPlaceHolder1_upPricePanel\"]/span/span[1]')\n",
    "Drops_Safran_currency = Drops_currency.text\n",
    "Drops_Safran_price = driver.find_element_by_xpath('//*[@id=\"ContentPlaceHolder1_upPricePanel\"]/span/span[2]')\n",
    "Drops_price = Drops_Safran_price.text\n",
    "new_Drops_price = Drops_price.replace(\",\", \".\")\n",
    "Drops_rounded = math.ceil(float(new_Drops_price))\n",
    "Drops_final_price = Drops_Safran_currency + str(Drops_rounded)\n",
    "Drops_final_price"
   ]
  },
  {
   "cell_type": "code",
   "execution_count": 153,
   "id": "5c2a8c59",
   "metadata": {},
   "outputs": [
    {
     "data": {
      "text/plain": [
       "'100% Cotton'"
      ]
     },
     "execution_count": 153,
     "metadata": {},
     "output_type": "execute_result"
    }
   ],
   "source": [
    "Drops_Safran_composition = driver.find_element_by_xpath('/html/body/div[1]/div[4]/div/form/div[16]/div/div/div[2]/table/tbody/tr[4]/td[2]')\n",
    "Drops_Safran_composition.text"
   ]
  },
  {
   "cell_type": "code",
   "execution_count": 154,
   "id": "35c6fd68",
   "metadata": {},
   "outputs": [
    {
     "data": {
      "text/plain": [
       "'3 mm'"
      ]
     },
     "execution_count": 154,
     "metadata": {},
     "output_type": "execute_result"
    }
   ],
   "source": [
    "Drops_Safran_needle_size = driver.find_element_by_xpath('//*[@id=\"pdetailTableSpecs\"]/table/tbody/tr[5]/td[2]')\n",
    "Drops_Safran_needle_size.text"
   ]
  },
  {
   "cell_type": "code",
   "execution_count": 155,
   "id": "d4052466",
   "metadata": {},
   "outputs": [
    {
     "data": {
      "text/plain": [
       "'Worldwide/international shipping'"
      ]
     },
     "execution_count": 155,
     "metadata": {},
     "output_type": "execute_result"
    }
   ],
   "source": [
    "Drops_Safran_delivery = driver.find_element_by_xpath('//*[@id=\"form1\"]/div[11]/div/ul/li[4]')\n",
    "Drops_Safran_delivery.text"
   ]
  },
  {
   "cell_type": "code",
   "execution_count": 156,
   "id": "3818cad8",
   "metadata": {},
   "outputs": [
    {
     "data": {
      "text/html": [
       "<div>\n",
       "<style scoped>\n",
       "    .dataframe tbody tr th:only-of-type {\n",
       "        vertical-align: middle;\n",
       "    }\n",
       "\n",
       "    .dataframe tbody tr th {\n",
       "        vertical-align: top;\n",
       "    }\n",
       "\n",
       "    .dataframe thead th {\n",
       "        text-align: right;\n",
       "    }\n",
       "</style>\n",
       "<table border=\"1\" class=\"dataframe\">\n",
       "  <thead>\n",
       "    <tr style=\"text-align: right;\">\n",
       "      <th></th>\n",
       "      <th>Brand</th>\n",
       "      <th>Product Name</th>\n",
       "      <th>Price</th>\n",
       "      <th>Composition</th>\n",
       "      <th>Neddle size</th>\n",
       "      <th>Delivery</th>\n",
       "    </tr>\n",
       "  </thead>\n",
       "  <tbody>\n",
       "    <tr>\n",
       "      <th>0</th>\n",
       "      <td>Drops</td>\n",
       "      <td>Drops Safran 1 Light-pink</td>\n",
       "      <td>€2</td>\n",
       "      <td>100% Cotton</td>\n",
       "      <td>3 mm</td>\n",
       "      <td>Worldwide/international shipping</td>\n",
       "    </tr>\n",
       "  </tbody>\n",
       "</table>\n",
       "</div>"
      ],
      "text/plain": [
       "   Brand               Product Name Price  Composition Neddle size  \\\n",
       "0  Drops  Drops Safran 1 Light-pink    €2  100% Cotton        3 mm   \n",
       "\n",
       "                           Delivery  \n",
       "0  Worldwide/international shipping  "
      ]
     },
     "execution_count": 156,
     "metadata": {},
     "output_type": "execute_result"
    }
   ],
   "source": [
    "df1 = pd.DataFrame({\n",
    "    \"Brand\": [Drops_Safran_brand.text],\n",
    "    \"Product Name\": [Drops_product_name.text],\n",
    "    \"Price\": [Drops_final_price],\n",
    "    \"Composition\": [Drops_Safran_composition.text],         \n",
    "    \"Neddle size\": [Drops_Safran_needle_size.text],\n",
    "    \"Delivery\": [Drops_Safran_delivery.text]\n",
    "})\n",
    "df1"
   ]
  },
  {
   "cell_type": "markdown",
   "id": "8f179081",
   "metadata": {},
   "source": [
    "# Stylecraft Special dk"
   ]
  },
  {
   "cell_type": "code",
   "execution_count": 157,
   "id": "782c18f5",
   "metadata": {},
   "outputs": [],
   "source": [
    "driver.get(url2)\n",
    "product_search = driver.find_element_by_id('searchSooqrTop')\n",
    "product_search.click()\n",
    "Stylecraft = product_search.send_keys('Stylecraft Special dk')"
   ]
  },
  {
   "cell_type": "code",
   "execution_count": 158,
   "id": "618dae64",
   "metadata": {},
   "outputs": [],
   "source": [
    "Stylecraft_product_page = driver.find_element_by_xpath('//*[@id=\"sooqrView1ed85d54e833cd8d\"]/div[4]/div/div[2]/div[1]/div/div[1]/h3/a')\n",
    "Stylecraft_product_page.click()"
   ]
  },
  {
   "cell_type": "code",
   "execution_count": 159,
   "id": "6242f17e",
   "metadata": {},
   "outputs": [
    {
     "data": {
      "text/plain": [
       "'Stylecraft Special dk 1001 White'"
      ]
     },
     "execution_count": 159,
     "metadata": {},
     "output_type": "execute_result"
    }
   ],
   "source": [
    "Stylecraft_product_name = driver.find_element_by_xpath('//*[@id=\"pageheadertitle\"]')\n",
    "Stylecraft_product_name.text"
   ]
  },
  {
   "cell_type": "code",
   "execution_count": 160,
   "id": "218dbbc9",
   "metadata": {},
   "outputs": [
    {
     "data": {
      "text/plain": [
       "'Stylecraft'"
      ]
     },
     "execution_count": 160,
     "metadata": {},
     "output_type": "execute_result"
    }
   ],
   "source": [
    "Stylecraft_Special_brand = driver.find_element_by_xpath('//*[@id=\"pdetailTableSpecs\"]/table/tbody/tr[16]/td[2]/a/span/span')\n",
    "Stylecraft_Special_brand.text"
   ]
  },
  {
   "cell_type": "code",
   "execution_count": 161,
   "id": "204e75db",
   "metadata": {},
   "outputs": [
    {
     "data": {
      "text/plain": [
       "'€3'"
      ]
     },
     "execution_count": 161,
     "metadata": {},
     "output_type": "execute_result"
    }
   ],
   "source": [
    "Stylecraft_currency = driver.find_element_by_xpath('//*[@id=\"ContentPlaceHolder1_upPricePanel\"]/span/span[1]')\n",
    "Stylecraft_Special_currency = Stylecraft_currency.text\n",
    "Stylecraft_Special_price = driver.find_element_by_xpath('//*[@id=\"ContentPlaceHolder1_upPricePanel\"]/span/span[2]')\n",
    "Stylecraft_price = Stylecraft_Special_price.text\n",
    "new_Stylecraft_price = Stylecraft_price.replace(\",\", \".\")\n",
    "Stylecraft_rounded = math.ceil(float(new_Stylecraft_price))\n",
    "Stylecraft_final_price = Stylecraft_Special_currency + str(Stylecraft_rounded)\n",
    "Stylecraft_final_price"
   ]
  },
  {
   "cell_type": "code",
   "execution_count": 162,
   "id": "5d3b3b79",
   "metadata": {},
   "outputs": [
    {
     "data": {
      "text/plain": [
       "'100% Acrylic'"
      ]
     },
     "execution_count": 162,
     "metadata": {},
     "output_type": "execute_result"
    }
   ],
   "source": [
    "Stylecraft_Special_composition = driver.find_element_by_xpath('//*[@id=\"pdetailTableSpecs\"]/table/tbody/tr[3]/td[2]')\n",
    "Stylecraft_Special_composition.text"
   ]
  },
  {
   "cell_type": "code",
   "execution_count": 163,
   "id": "773c0408",
   "metadata": {},
   "outputs": [
    {
     "data": {
      "text/plain": [
       "'4 mm'"
      ]
     },
     "execution_count": 163,
     "metadata": {},
     "output_type": "execute_result"
    }
   ],
   "source": [
    "Stylecraft_Special_needle_size = driver.find_element_by_xpath('//*[@id=\"pdetailTableSpecs\"]/table/tbody/tr[4]/td[2]')\n",
    "Stylecraft_Special_needle_size.text"
   ]
  },
  {
   "cell_type": "code",
   "execution_count": 164,
   "id": "2fa432d7",
   "metadata": {},
   "outputs": [
    {
     "data": {
      "text/plain": [
       "'Worldwide/international shipping'"
      ]
     },
     "execution_count": 164,
     "metadata": {},
     "output_type": "execute_result"
    }
   ],
   "source": [
    "Stylecraft_Special_delivery = driver.find_element_by_xpath('//*[@id=\"form1\"]/div[11]/div/ul/li[4]')\n",
    "Stylecraft_Special_delivery.text"
   ]
  },
  {
   "cell_type": "code",
   "execution_count": 165,
   "id": "7be494a7",
   "metadata": {},
   "outputs": [
    {
     "data": {
      "text/html": [
       "<div>\n",
       "<style scoped>\n",
       "    .dataframe tbody tr th:only-of-type {\n",
       "        vertical-align: middle;\n",
       "    }\n",
       "\n",
       "    .dataframe tbody tr th {\n",
       "        vertical-align: top;\n",
       "    }\n",
       "\n",
       "    .dataframe thead th {\n",
       "        text-align: right;\n",
       "    }\n",
       "</style>\n",
       "<table border=\"1\" class=\"dataframe\">\n",
       "  <thead>\n",
       "    <tr style=\"text-align: right;\">\n",
       "      <th></th>\n",
       "      <th>Brand</th>\n",
       "      <th>Product Name</th>\n",
       "      <th>Price</th>\n",
       "      <th>Composition</th>\n",
       "      <th>Neddle size</th>\n",
       "      <th>Delivery</th>\n",
       "    </tr>\n",
       "  </thead>\n",
       "  <tbody>\n",
       "    <tr>\n",
       "      <th>0</th>\n",
       "      <td>Stylecraft</td>\n",
       "      <td>Stylecraft Special dk 1001 White</td>\n",
       "      <td>€3</td>\n",
       "      <td>100% Acrylic</td>\n",
       "      <td>4 mm</td>\n",
       "      <td>Worldwide/international shipping</td>\n",
       "    </tr>\n",
       "  </tbody>\n",
       "</table>\n",
       "</div>"
      ],
      "text/plain": [
       "        Brand                      Product Name Price   Composition  \\\n",
       "0  Stylecraft  Stylecraft Special dk 1001 White    €3  100% Acrylic   \n",
       "\n",
       "  Neddle size                          Delivery  \n",
       "0        4 mm  Worldwide/international shipping  "
      ]
     },
     "execution_count": 165,
     "metadata": {},
     "output_type": "execute_result"
    }
   ],
   "source": [
    "df2 = pd.DataFrame({\n",
    "    \"Brand\": [Stylecraft_Special_brand.text],\n",
    "    \"Product Name\": [Stylecraft_product_name.text],\n",
    "    \"Price\": [Stylecraft_final_price],\n",
    "    \"Composition\": [Stylecraft_Special_composition.text],         \n",
    "    \"Neddle size\": [Stylecraft_Special_needle_size.text],\n",
    "    \"Delivery\": [Stylecraft_Special_delivery.text]\n",
    "})\n",
    "df2"
   ]
  },
  {
   "cell_type": "code",
   "execution_count": 166,
   "id": "cf2f5208",
   "metadata": {},
   "outputs": [
    {
     "data": {
      "text/html": [
       "<div>\n",
       "<style scoped>\n",
       "    .dataframe tbody tr th:only-of-type {\n",
       "        vertical-align: middle;\n",
       "    }\n",
       "\n",
       "    .dataframe tbody tr th {\n",
       "        vertical-align: top;\n",
       "    }\n",
       "\n",
       "    .dataframe thead th {\n",
       "        text-align: right;\n",
       "    }\n",
       "</style>\n",
       "<table border=\"1\" class=\"dataframe\">\n",
       "  <thead>\n",
       "    <tr style=\"text-align: right;\">\n",
       "      <th></th>\n",
       "      <th>Brand</th>\n",
       "      <th>Product Name</th>\n",
       "      <th>Price</th>\n",
       "      <th>Composition</th>\n",
       "      <th>Neddle size</th>\n",
       "      <th>Delivery</th>\n",
       "    </tr>\n",
       "  </thead>\n",
       "  <tbody>\n",
       "    <tr>\n",
       "      <th>0</th>\n",
       "      <td>DMC</td>\n",
       "      <td>DMC Natura XL 02 Black</td>\n",
       "      <td>€9</td>\n",
       "      <td>100% Cotton</td>\n",
       "      <td>8 mm</td>\n",
       "      <td>Worldwide/international shipping</td>\n",
       "    </tr>\n",
       "    <tr>\n",
       "      <th>1</th>\n",
       "      <td>Drops</td>\n",
       "      <td>Drops Safran 1 Light-pink</td>\n",
       "      <td>€2</td>\n",
       "      <td>100% Cotton</td>\n",
       "      <td>3 mm</td>\n",
       "      <td>Worldwide/international shipping</td>\n",
       "    </tr>\n",
       "    <tr>\n",
       "      <th>2</th>\n",
       "      <td>Stylecraft</td>\n",
       "      <td>Stylecraft Special dk 1001 White</td>\n",
       "      <td>€3</td>\n",
       "      <td>100% Acrylic</td>\n",
       "      <td>4 mm</td>\n",
       "      <td>Worldwide/international shipping</td>\n",
       "    </tr>\n",
       "  </tbody>\n",
       "</table>\n",
       "</div>"
      ],
      "text/plain": [
       "        Brand                      Product Name Price   Composition  \\\n",
       "0         DMC            DMC Natura XL 02 Black    €9   100% Cotton   \n",
       "1       Drops         Drops Safran 1 Light-pink    €2   100% Cotton   \n",
       "2  Stylecraft  Stylecraft Special dk 1001 White    €3  100% Acrylic   \n",
       "\n",
       "  Neddle size                          Delivery  \n",
       "0        8 mm  Worldwide/international shipping  \n",
       "1        3 mm  Worldwide/international shipping  \n",
       "2        4 mm  Worldwide/international shipping  "
      ]
     },
     "execution_count": 166,
     "metadata": {},
     "output_type": "execute_result"
    }
   ],
   "source": [
    "all_brands = [df, df1, df2]\n",
    "result = pd.concat(all_brands, ignore_index=True)\n",
    "result"
   ]
  },
  {
   "cell_type": "code",
   "execution_count": 167,
   "id": "b93e3909",
   "metadata": {},
   "outputs": [],
   "source": [
    "result.to_excel('./Wool_Data.csv')"
   ]
  },
  {
   "cell_type": "code",
   "execution_count": null,
   "id": "7e059cd1",
   "metadata": {},
   "outputs": [],
   "source": []
  }
 ],
 "metadata": {
  "kernelspec": {
   "display_name": "Python 3",
   "language": "python",
   "name": "python3"
  },
  "language_info": {
   "codemirror_mode": {
    "name": "ipython",
    "version": 3
   },
   "file_extension": ".py",
   "mimetype": "text/x-python",
   "name": "python",
   "nbconvert_exporter": "python",
   "pygments_lexer": "ipython3",
   "version": "3.8.8"
  }
 },
 "nbformat": 4,
 "nbformat_minor": 5
}
